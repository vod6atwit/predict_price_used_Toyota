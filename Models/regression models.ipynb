{
 "cells": [
  {
   "cell_type": "markdown",
   "metadata": {
    "colab_type": "text",
    "id": "CazISR8X_HUG"
   },
   "source": [
    "# Regression models\n",
    "\n",
    "No apply Tuning parameters "
   ]
  },
  {
   "cell_type": "markdown",
   "metadata": {
    "colab_type": "text",
    "id": "pOyqYHTk_Q57"
   },
   "source": [
    "## 1. Importing the libraries"
   ]
  },
  {
   "cell_type": "code",
   "execution_count": 5,
   "metadata": {
    "colab": {},
    "colab_type": "code",
    "id": "T_YHJjnD_Tja"
   },
   "outputs": [],
   "source": [
    "import numpy as np\n",
    "np.set_printoptions(threshold=0)\n",
    "import matplotlib.pyplot as plt\n",
    "import pandas as pd"
   ]
  },
  {
   "cell_type": "markdown",
   "metadata": {
    "colab_type": "text",
    "id": "vgC61-ah_WIz"
   },
   "source": [
    "## 2. Importing the dataset"
   ]
  },
  {
   "cell_type": "code",
   "execution_count": 6,
   "metadata": {
    "colab": {},
    "colab_type": "code",
    "id": "UrxyEKGn_ez7"
   },
   "outputs": [
    {
     "data": {
      "text/html": [
       "<div>\n",
       "<style scoped>\n",
       "    .dataframe tbody tr th:only-of-type {\n",
       "        vertical-align: middle;\n",
       "    }\n",
       "\n",
       "    .dataframe tbody tr th {\n",
       "        vertical-align: top;\n",
       "    }\n",
       "\n",
       "    .dataframe thead th {\n",
       "        text-align: right;\n",
       "    }\n",
       "</style>\n",
       "<table border=\"1\" class=\"dataframe\">\n",
       "  <thead>\n",
       "    <tr style=\"text-align: right;\">\n",
       "      <th></th>\n",
       "      <th>model</th>\n",
       "      <th>year</th>\n",
       "      <th>transmission</th>\n",
       "      <th>mileage</th>\n",
       "      <th>fuelType</th>\n",
       "      <th>tax</th>\n",
       "      <th>mpg</th>\n",
       "      <th>engineSize</th>\n",
       "      <th>price</th>\n",
       "    </tr>\n",
       "  </thead>\n",
       "  <tbody>\n",
       "    <tr>\n",
       "      <th>0</th>\n",
       "      <td>GT86</td>\n",
       "      <td>2016</td>\n",
       "      <td>Manual</td>\n",
       "      <td>24089</td>\n",
       "      <td>Petrol</td>\n",
       "      <td>265.0</td>\n",
       "      <td>36.2</td>\n",
       "      <td>2.0</td>\n",
       "      <td>16000</td>\n",
       "    </tr>\n",
       "    <tr>\n",
       "      <th>1</th>\n",
       "      <td>GT86</td>\n",
       "      <td>2017</td>\n",
       "      <td>Manual</td>\n",
       "      <td>18615</td>\n",
       "      <td>Petrol</td>\n",
       "      <td>145.0</td>\n",
       "      <td>36.2</td>\n",
       "      <td>2.0</td>\n",
       "      <td>15995</td>\n",
       "    </tr>\n",
       "    <tr>\n",
       "      <th>2</th>\n",
       "      <td>GT86</td>\n",
       "      <td>2015</td>\n",
       "      <td>Manual</td>\n",
       "      <td>27469</td>\n",
       "      <td>Petrol</td>\n",
       "      <td>265.0</td>\n",
       "      <td>36.2</td>\n",
       "      <td>2.0</td>\n",
       "      <td>13998</td>\n",
       "    </tr>\n",
       "    <tr>\n",
       "      <th>3</th>\n",
       "      <td>GT86</td>\n",
       "      <td>2017</td>\n",
       "      <td>Manual</td>\n",
       "      <td>14736</td>\n",
       "      <td>Petrol</td>\n",
       "      <td>150.0</td>\n",
       "      <td>36.2</td>\n",
       "      <td>2.0</td>\n",
       "      <td>18998</td>\n",
       "    </tr>\n",
       "    <tr>\n",
       "      <th>4</th>\n",
       "      <td>GT86</td>\n",
       "      <td>2017</td>\n",
       "      <td>Manual</td>\n",
       "      <td>36284</td>\n",
       "      <td>Petrol</td>\n",
       "      <td>145.0</td>\n",
       "      <td>36.2</td>\n",
       "      <td>2.0</td>\n",
       "      <td>17498</td>\n",
       "    </tr>\n",
       "    <tr>\n",
       "      <th>...</th>\n",
       "      <td>...</td>\n",
       "      <td>...</td>\n",
       "      <td>...</td>\n",
       "      <td>...</td>\n",
       "      <td>...</td>\n",
       "      <td>...</td>\n",
       "      <td>...</td>\n",
       "      <td>...</td>\n",
       "      <td>...</td>\n",
       "    </tr>\n",
       "    <tr>\n",
       "      <th>6733</th>\n",
       "      <td>IQ</td>\n",
       "      <td>2011</td>\n",
       "      <td>Automatic</td>\n",
       "      <td>30000</td>\n",
       "      <td>Petrol</td>\n",
       "      <td>20.0</td>\n",
       "      <td>58.9</td>\n",
       "      <td>1.0</td>\n",
       "      <td>5500</td>\n",
       "    </tr>\n",
       "    <tr>\n",
       "      <th>6734</th>\n",
       "      <td>Urban Cruiser</td>\n",
       "      <td>2011</td>\n",
       "      <td>Manual</td>\n",
       "      <td>36154</td>\n",
       "      <td>Petrol</td>\n",
       "      <td>125.0</td>\n",
       "      <td>50.4</td>\n",
       "      <td>1.3</td>\n",
       "      <td>4985</td>\n",
       "    </tr>\n",
       "    <tr>\n",
       "      <th>6735</th>\n",
       "      <td>Urban Cruiser</td>\n",
       "      <td>2012</td>\n",
       "      <td>Manual</td>\n",
       "      <td>46000</td>\n",
       "      <td>Diesel</td>\n",
       "      <td>125.0</td>\n",
       "      <td>57.6</td>\n",
       "      <td>1.4</td>\n",
       "      <td>4995</td>\n",
       "    </tr>\n",
       "    <tr>\n",
       "      <th>6736</th>\n",
       "      <td>Urban Cruiser</td>\n",
       "      <td>2011</td>\n",
       "      <td>Manual</td>\n",
       "      <td>60700</td>\n",
       "      <td>Petrol</td>\n",
       "      <td>125.0</td>\n",
       "      <td>50.4</td>\n",
       "      <td>1.3</td>\n",
       "      <td>3995</td>\n",
       "    </tr>\n",
       "    <tr>\n",
       "      <th>6737</th>\n",
       "      <td>Urban Cruiser</td>\n",
       "      <td>2011</td>\n",
       "      <td>Manual</td>\n",
       "      <td>45128</td>\n",
       "      <td>Petrol</td>\n",
       "      <td>125.0</td>\n",
       "      <td>50.4</td>\n",
       "      <td>1.3</td>\n",
       "      <td>4495</td>\n",
       "    </tr>\n",
       "  </tbody>\n",
       "</table>\n",
       "<p>6738 rows × 9 columns</p>\n",
       "</div>"
      ],
      "text/plain": [
       "               model  year transmission  mileage fuelType    tax   mpg  \\\n",
       "0               GT86  2016       Manual    24089   Petrol  265.0  36.2   \n",
       "1               GT86  2017       Manual    18615   Petrol  145.0  36.2   \n",
       "2               GT86  2015       Manual    27469   Petrol  265.0  36.2   \n",
       "3               GT86  2017       Manual    14736   Petrol  150.0  36.2   \n",
       "4               GT86  2017       Manual    36284   Petrol  145.0  36.2   \n",
       "...              ...   ...          ...      ...      ...    ...   ...   \n",
       "6733              IQ  2011    Automatic    30000   Petrol   20.0  58.9   \n",
       "6734   Urban Cruiser  2011       Manual    36154   Petrol  125.0  50.4   \n",
       "6735   Urban Cruiser  2012       Manual    46000   Diesel  125.0  57.6   \n",
       "6736   Urban Cruiser  2011       Manual    60700   Petrol  125.0  50.4   \n",
       "6737   Urban Cruiser  2011       Manual    45128   Petrol  125.0  50.4   \n",
       "\n",
       "      engineSize  price  \n",
       "0            2.0  16000  \n",
       "1            2.0  15995  \n",
       "2            2.0  13998  \n",
       "3            2.0  18998  \n",
       "4            2.0  17498  \n",
       "...          ...    ...  \n",
       "6733         1.0   5500  \n",
       "6734         1.3   4985  \n",
       "6735         1.4   4995  \n",
       "6736         1.3   3995  \n",
       "6737         1.3   4495  \n",
       "\n",
       "[6738 rows x 9 columns]"
      ]
     },
     "execution_count": 6,
     "metadata": {},
     "output_type": "execute_result"
    }
   ],
   "source": [
    "dataset = pd.read_csv('../dataSet/main_data.csv')\n",
    "dataset"
   ]
  },
  {
   "cell_type": "markdown",
   "metadata": {},
   "source": [
    "#### we can see clearly that indexes at 0, 2, and 4 are object"
   ]
  },
  {
   "cell_type": "code",
   "execution_count": 7,
   "metadata": {},
   "outputs": [
    {
     "name": "stdout",
     "output_type": "stream",
     "text": [
      "<class 'pandas.core.frame.DataFrame'>\n",
      "RangeIndex: 6738 entries, 0 to 6737\n",
      "Data columns (total 9 columns):\n",
      " #   Column        Non-Null Count  Dtype  \n",
      "---  ------        --------------  -----  \n",
      " 0   model         6738 non-null   object \n",
      " 1   year          6738 non-null   int64  \n",
      " 2   transmission  6738 non-null   object \n",
      " 3   mileage       6738 non-null   int64  \n",
      " 4   fuelType      6738 non-null   object \n",
      " 5   tax           6738 non-null   float64\n",
      " 6   mpg           6738 non-null   float64\n",
      " 7   engineSize    6738 non-null   float64\n",
      " 8   price         6738 non-null   int64  \n",
      "dtypes: float64(3), int64(3), object(3)\n",
      "memory usage: 473.9+ KB\n"
     ]
    }
   ],
   "source": [
    "dataset.info()"
   ]
  },
  {
   "cell_type": "markdown",
   "metadata": {},
   "source": [
    "### 2.1 check the shape"
   ]
  },
  {
   "cell_type": "code",
   "execution_count": 8,
   "metadata": {},
   "outputs": [
    {
     "data": {
      "text/plain": [
       "(6738, 9)"
      ]
     },
     "execution_count": 8,
     "metadata": {},
     "output_type": "execute_result"
    }
   ],
   "source": [
    "dataset.shape"
   ]
  },
  {
   "cell_type": "markdown",
   "metadata": {},
   "source": [
    "### 2.4 Get independent/feature variables"
   ]
  },
  {
   "cell_type": "code",
   "execution_count": 9,
   "metadata": {},
   "outputs": [
    {
     "name": "stdout",
     "output_type": "stream",
     "text": [
      "[[' GT86' 2016 'Manual' ... 265.0 36.2 2.0]\n",
      " [' GT86' 2017 'Manual' ... 145.0 36.2 2.0]\n",
      " [' GT86' 2015 'Manual' ... 265.0 36.2 2.0]\n",
      " ...\n",
      " [' Urban Cruiser' 2012 'Manual' ... 125.0 57.6 1.4]\n",
      " [' Urban Cruiser' 2011 'Manual' ... 125.0 50.4 1.3]\n",
      " [' Urban Cruiser' 2011 'Manual' ... 125.0 50.4 1.3]]\n",
      "(6738, 8)\n"
     ]
    }
   ],
   "source": [
    "X = dataset.iloc[:, :-1].values\n",
    "print(X)\n",
    "print(X.shape)"
   ]
  },
  {
   "cell_type": "code",
   "execution_count": 10,
   "metadata": {},
   "outputs": [
    {
     "data": {
      "text/plain": [
       "numpy.ndarray"
      ]
     },
     "execution_count": 10,
     "metadata": {},
     "output_type": "execute_result"
    }
   ],
   "source": [
    "type(X)"
   ]
  },
  {
   "cell_type": "markdown",
   "metadata": {},
   "source": [
    "### 2.5 Get dependent variables"
   ]
  },
  {
   "cell_type": "code",
   "execution_count": 11,
   "metadata": {},
   "outputs": [
    {
     "name": "stdout",
     "output_type": "stream",
     "text": [
      "[16000 15995 13998 ...  4995  3995  4495]\n",
      "(6738,)\n"
     ]
    }
   ],
   "source": [
    "y = dataset.iloc[:, -1].values\n",
    "print(y)\n",
    "print(y.shape)"
   ]
  },
  {
   "cell_type": "markdown",
   "metadata": {},
   "source": [
    "## 3. Encoding the categorical variables\n",
    "\n",
    "### source: https://www.analyticsvidhya.com/blog/2020/03/one-hot-encoding-vs-label-encoding-using-scikit-learn/"
   ]
  },
  {
   "cell_type": "markdown",
   "metadata": {},
   "source": [
    "We are using OneHotEncoder/ColumnTransformer to create Dummy Variables\n",
    "\n",
    "A dummy variable is a variable created to assign numerical value to levels of categorical variables.\n",
    "\n",
    "Dummy variables are variables that are either 0 or 1"
   ]
  },
  {
   "cell_type": "code",
   "execution_count": 12,
   "metadata": {},
   "outputs": [
    {
     "name": "stdout",
     "output_type": "stream",
     "text": [
      "[[' GT86' 2016 'Manual' ... 265.0 36.2 2.0]\n",
      " [' GT86' 2017 'Manual' ... 145.0 36.2 2.0]\n",
      " [' GT86' 2015 'Manual' ... 265.0 36.2 2.0]\n",
      " ...\n",
      " [' Urban Cruiser' 2012 'Manual' ... 125.0 57.6 1.4]\n",
      " [' Urban Cruiser' 2011 'Manual' ... 125.0 50.4 1.3]\n",
      " [' Urban Cruiser' 2011 'Manual' ... 125.0 50.4 1.3]]\n",
      "(6738, 8)\n",
      "<class 'numpy.ndarray'>\n"
     ]
    }
   ],
   "source": [
    "print(X)\n",
    "print(X.shape)\n",
    "print(type(X))"
   ]
  },
  {
   "cell_type": "markdown",
   "metadata": {},
   "source": [
    "### Export X features for deploying later"
   ]
  },
  {
   "cell_type": "code",
   "execution_count": 13,
   "metadata": {},
   "outputs": [],
   "source": [
    "# Run only 1 time\n",
    "\n",
    "# X_deploy = pd.DataFrame(X)\n",
    "# X_deploy.to_csv('X_deploy.csv', index=False)"
   ]
  },
  {
   "cell_type": "code",
   "execution_count": 14,
   "metadata": {},
   "outputs": [],
   "source": [
    "from sklearn.compose import ColumnTransformer\n",
    "from sklearn.preprocessing import OneHotEncoder\n",
    "ct = ColumnTransformer(transformers=[('encoder', OneHotEncoder(), [0, 2, 4])], remainder='passthrough')\n",
    "# X = np.array(ct.fit_transform(X))\n",
    "X = ct.fit_transform(X).toarray()"
   ]
  },
  {
   "cell_type": "code",
   "execution_count": 15,
   "metadata": {},
   "outputs": [
    {
     "data": {
      "text/plain": [
       "array([' GT86', ' Corolla', ' RAV4', ..., ' Verso-S', ' IQ',\n",
       "       ' Urban Cruiser'], dtype=object)"
      ]
     },
     "execution_count": 15,
     "metadata": {},
     "output_type": "execute_result"
    }
   ],
   "source": [
    "dataset['model'].unique()"
   ]
  },
  {
   "cell_type": "markdown",
   "metadata": {},
   "source": [
    " #### Example when encoding successfully\n",
    " \n",
    " 0.0 0.0 0.0 0.0 0.0 0.0 1.0 equivalent to \"GT86\"\n",
    " \n",
    " 0.0 0.0 0.0 0.0 0.0 1.0 0.0 equivalent to \"Corolla\""
   ]
  },
  {
   "cell_type": "code",
   "execution_count": 16,
   "metadata": {
    "scrolled": false
   },
   "outputs": [
    {
     "name": "stdout",
     "output_type": "stream",
     "text": [
      "[[  0.    0.    0.  ... 265.   36.2   2. ]\n",
      " [  0.    0.    0.  ... 145.   36.2   2. ]\n",
      " [  0.    0.    0.  ... 265.   36.2   2. ]\n",
      " ...\n",
      " [  0.    0.    0.  ... 125.   57.6   1.4]\n",
      " [  0.    0.    0.  ... 125.   50.4   1.3]\n",
      " [  0.    0.    0.  ... 125.   50.4   1.3]]\n",
      "(6738, 31)\n",
      "<class 'numpy.ndarray'>\n"
     ]
    }
   ],
   "source": [
    "print(X)\n",
    "print(X.shape)\n",
    "print(type(X))"
   ]
  },
  {
   "cell_type": "markdown",
   "metadata": {
    "colab_type": "text",
    "id": "WemVnqgeA70k"
   },
   "source": [
    "## 4. Splitting the dataset into the Training set and Test set"
   ]
  },
  {
   "cell_type": "markdown",
   "metadata": {},
   "source": [
    "test set = 20% of dataset\n",
    "\n",
    "random_state=None: we get different train and test sets across different executions and the shuffling process is out of control. \n",
    "\n",
    "random_state=0 , we get the same train and test sets across different executions."
   ]
  },
  {
   "cell_type": "code",
   "execution_count": 17,
   "metadata": {
    "colab": {},
    "colab_type": "code",
    "id": "Kb_v_ae-A-20"
   },
   "outputs": [],
   "source": [
    "from sklearn.model_selection import train_test_split\n",
    "X_train, X_test, y_train, y_test = train_test_split(X, y, test_size = 0.2, random_state = None)"
   ]
  },
  {
   "cell_type": "code",
   "execution_count": 18,
   "metadata": {},
   "outputs": [
    {
     "name": "stdout",
     "output_type": "stream",
     "text": [
      "[[  0.    0.    0.  ... 150.   53.    2. ]\n",
      " [  0.    0.    1.  ... 145.   69.    1. ]\n",
      " [  0.    0.    1.  ...   0.   65.7   1. ]\n",
      " ...\n",
      " [  0.    0.    1.  ... 150.   67.    1. ]\n",
      " [  0.    0.    0.  ... 135.   76.3   1.5]\n",
      " [  0.    0.    0.  ... 145.   47.9   1.5]]\n",
      "(5390, 31)\n"
     ]
    }
   ],
   "source": [
    "print(X_train)\n",
    "print(X_train.shape)"
   ]
  },
  {
   "cell_type": "code",
   "execution_count": 19,
   "metadata": {
    "scrolled": true
   },
   "outputs": [
    {
     "name": "stdout",
     "output_type": "stream",
     "text": [
      "[[  0.    0.    1.  ...   0.   69.    1. ]\n",
      " [  0.    0.    0.  ...   0.   78.    1.5]\n",
      " [  0.    0.    1.  ... 145.   56.5   1. ]\n",
      " ...\n",
      " [  0.    0.    0.  ...  30.   58.    1.3]\n",
      " [  0.    0.    1.  ...   0.   69.    1. ]\n",
      " [  0.    0.    1.  ... 145.   69.    1. ]]\n",
      "(1348, 31)\n"
     ]
    }
   ],
   "source": [
    "print(X_test)\n",
    "print(X_test.shape)"
   ]
  },
  {
   "cell_type": "code",
   "execution_count": 20,
   "metadata": {},
   "outputs": [
    {
     "name": "stdout",
     "output_type": "stream",
     "text": [
      "[11495  7190  4199 ...  7500 13885 12995]\n",
      "(5390,)\n"
     ]
    },
    {
     "data": {
      "text/plain": [
       "numpy.ndarray"
      ]
     },
     "execution_count": 20,
     "metadata": {},
     "output_type": "execute_result"
    }
   ],
   "source": [
    "print(y_train)\n",
    "print(y_train.shape)\n",
    "type(y_train)"
   ]
  },
  {
   "cell_type": "code",
   "execution_count": 21,
   "metadata": {},
   "outputs": [
    {
     "name": "stdout",
     "output_type": "stream",
     "text": [
      "[ 5995 14999 10200 ...  7495  7550  6998]\n",
      "(1348,)\n"
     ]
    }
   ],
   "source": [
    "print(y_test)\n",
    "print(y_test.shape)"
   ]
  },
  {
   "cell_type": "markdown",
   "metadata": {},
   "source": [
    "### 4.1 Save train data for deploy"
   ]
  },
  {
   "cell_type": "code",
   "execution_count": 22,
   "metadata": {},
   "outputs": [],
   "source": [
    "# Run only for 1 time\n",
    "\n",
    "# X_train_deploy = pd.DataFrame(X_train)\n",
    "# y_train_deploy = pd.DataFrame(y_train)\n",
    "\n",
    "# X_train_deploy.to_csv('X_train_deploy.csv', index=False)\n",
    "# y_train_deploy.to_csv('y_train_deploy.csv', index=False)"
   ]
  },
  {
   "cell_type": "markdown",
   "metadata": {},
   "source": [
    "### 4.2 Save test data for deploy"
   ]
  },
  {
   "cell_type": "code",
   "execution_count": 23,
   "metadata": {},
   "outputs": [],
   "source": [
    "# run only for 1 time\n",
    "\n",
    "# X_test_deploy = pd.DataFrame(X_test)\n",
    "# y_test_deploy = pd.DataFrame(y_test)\n",
    "\n",
    "# X_test_deploy.to_csv('X_test_deploy.csv', index=False)\n",
    "# y_test_deploy.to_csv('y_test_deploy.csv', index=False)"
   ]
  },
  {
   "cell_type": "markdown",
   "metadata": {},
   "source": [
    "## -- Feature Scaling for SVR --\n",
    "### source: https://towardsdatascience.com/all-about-feature-scaling-bcc0ad75cb35"
   ]
  },
  {
   "cell_type": "code",
   "execution_count": 24,
   "metadata": {},
   "outputs": [
    {
     "name": "stdout",
     "output_type": "stream",
     "text": [
      "[[11495]\n",
      " [ 7190]\n",
      " [ 4199]\n",
      " ...\n",
      " [ 7500]\n",
      " [13885]\n",
      " [12995]]\n",
      "[[ 5995]\n",
      " [14999]\n",
      " [10200]\n",
      " ...\n",
      " [ 7495]\n",
      " [ 7550]\n",
      " [ 6998]]\n"
     ]
    }
   ],
   "source": [
    "#convert 1D to 2D array for transform\n",
    "y_train_SVR = y_train.reshape(len(y_train),1)\n",
    "y_test_SVR = y_test.reshape(len(y_test),1)\n",
    "\n",
    "print(y_train_SVR)\n",
    "print(y_test_SVR)"
   ]
  },
  {
   "cell_type": "code",
   "execution_count": 25,
   "metadata": {
    "scrolled": true
   },
   "outputs": [
    {
     "name": "stdout",
     "output_type": "stream",
     "text": [
      "[[-0.16028444]\n",
      " [-0.84848517]\n",
      " [-1.32662881]\n",
      " ...\n",
      " [-0.79892833]\n",
      " [ 0.22178286]\n",
      " [ 0.07950675]]\n"
     ]
    }
   ],
   "source": [
    "from sklearn.preprocessing import StandardScaler\n",
    "sc_X_SVR = StandardScaler()\n",
    "sc_y_SVR = StandardScaler()\n",
    "X_train_SVR = sc_X_SVR.fit_transform(X_train)\n",
    "y_train_SVR = sc_y_SVR.fit_transform(y_train_SVR)\n",
    "\n",
    "print(y_train_SVR)"
   ]
  },
  {
   "cell_type": "markdown",
   "metadata": {},
   "source": [
    "## 5. Train and Build model"
   ]
  },
  {
   "cell_type": "markdown",
   "metadata": {
    "colab_type": "text",
    "id": "k-McZVsQBINc"
   },
   "source": [
    "### 5.1 Multiple Linear Regression approach\n",
    "### y = b0 + b1x1 + b2x2 + ... + bNxN\n",
    "\n",
    "### source: https://en.wikipedia.org/wiki/Linear_regression#Simple_and_multiple_linear_regression\n",
    "### source: https://www.simplilearn.com/what-is-backward-elimination-technique-in-machine-learning-article#:~:text=What%20is%20backward%20elimination%20in,is%20removed%20from%20the%20model.\n",
    "### P value: https://www.investopedia.com/terms/p/p-value.asp, https://www.simplypsychology.org/p-value.html\n",
    "\n",
    "\n",
    "Using 1 of 5 methods to find the best independent/features variable under the hood\n",
    "    \n",
    "    - All in\n",
    "    - backward elimination\n",
    "    - forward elimination\n",
    "    - bidirectional elimination\n",
    "    - Score comparision\n",
    "\n",
    "Using Ordinary Least Squares Algorithms to find the best linear regression\n",
    "    "
   ]
  },
  {
   "cell_type": "markdown",
   "metadata": {},
   "source": [
    "Training the Multiple Linear Regression model on the Training set"
   ]
  },
  {
   "cell_type": "code",
   "execution_count": 26,
   "metadata": {
    "colab": {},
    "colab_type": "code",
    "id": "ywPjx0L1BMiD"
   },
   "outputs": [
    {
     "data": {
      "text/plain": [
       "LinearRegression()"
      ]
     },
     "execution_count": 26,
     "metadata": {},
     "output_type": "execute_result"
    }
   ],
   "source": [
    "from sklearn.linear_model import LinearRegression\n",
    "regressor_linear = LinearRegression()\n",
    "regressor_linear.fit(X_train, y_train)"
   ]
  },
  {
   "cell_type": "markdown",
   "metadata": {},
   "source": [
    "### 5.2 Support Vector Regression (SVR) approach \n",
    "\n",
    "### source: https://files.core.ac.uk/pdf/2612/81523322.pdf\n",
    "\n",
    "### source: https://data-flair.training/blogs/svm-kernel-functions/"
   ]
  },
  {
   "cell_type": "markdown",
   "metadata": {},
   "source": [
    "Training the Polynomial Regression model on the whole dataset"
   ]
  },
  {
   "cell_type": "code",
   "execution_count": 27,
   "metadata": {},
   "outputs": [
    {
     "name": "stderr",
     "output_type": "stream",
     "text": [
      "/Users/duyvo/opt/anaconda3/envs/myDataScience/lib/python3.7/site-packages/sklearn/utils/validation.py:993: DataConversionWarning: A column-vector y was passed when a 1d array was expected. Please change the shape of y to (n_samples, ), for example using ravel().\n",
      "  y = column_or_1d(y, warn=True)\n"
     ]
    },
    {
     "data": {
      "text/plain": [
       "SVR()"
      ]
     },
     "execution_count": 27,
     "metadata": {},
     "output_type": "execute_result"
    }
   ],
   "source": [
    "from sklearn.svm import SVR\n",
    "regressor_SVR = SVR(kernel = 'rbf')\n",
    "regressor_SVR.fit(X_train_SVR, y_train_SVR)"
   ]
  },
  {
   "cell_type": "markdown",
   "metadata": {},
   "source": [
    "### 5.3 Decision Tree Regression approach\n",
    "\n",
    "### source: https://www.section.io/engineering-education/entropy-information-gain-machine-learning/\n",
    "\n",
    "### source: https://towardsdatascience.com/entropy-how-decision-trees-make-decisions-2946b9c18c8\n",
    "\n",
    "### source: https://scikit-learn.org/stable/modules/generated/sklearn.tree.DecisionTreeRegressor.html"
   ]
  },
  {
   "cell_type": "code",
   "execution_count": 28,
   "metadata": {},
   "outputs": [
    {
     "data": {
      "text/plain": [
       "DecisionTreeRegressor()"
      ]
     },
     "execution_count": 28,
     "metadata": {},
     "output_type": "execute_result"
    }
   ],
   "source": [
    "from sklearn.tree import DecisionTreeRegressor\n",
    "regressor_Decision_Tree = DecisionTreeRegressor(random_state = None)\n",
    "regressor_Decision_Tree.fit(X_train, y_train)"
   ]
  },
  {
   "cell_type": "markdown",
   "metadata": {},
   "source": [
    "### 5.4 Random Forest Regression approach\n",
    "\n",
    "Step 1: Pick at random K data points from the Training set.\n",
    "\n",
    "Step 2: Build the Decision Tree associated to these K data points.\n",
    "\n",
    "Step 3: Choose the number Ntree of trees you want to build and repeat STEPS 1 & 2\n",
    "\n",
    "Step 4: For a new data point, make each one of your Ntree trees predict the value of Y for the data point in question, and assign the new data point the average across all of the predicted Y values.\n",
    "\n",
    "### source: https://towardsdatascience.com/basic-ensemble-learning-random-forest-adaboost-gradient-boosting-step-by-step-explained-95d49d1e2725\n",
    "\n",
    "### source: https://scikit-learn.org/stable/modules/generated/sklearn.ensemble.RandomForestRegressor.html"
   ]
  },
  {
   "cell_type": "code",
   "execution_count": 29,
   "metadata": {},
   "outputs": [
    {
     "data": {
      "text/plain": [
       "RandomForestRegressor(n_estimators=10)"
      ]
     },
     "execution_count": 29,
     "metadata": {},
     "output_type": "execute_result"
    }
   ],
   "source": [
    "from sklearn.ensemble import RandomForestRegressor\n",
    "regressor_random_forest = RandomForestRegressor(n_estimators = 10, random_state = None)\n",
    "regressor_random_forest.fit(X_train, y_train)"
   ]
  },
  {
   "cell_type": "markdown",
   "metadata": {
    "colab_type": "text",
    "id": "xNkXL1YQBiBT"
   },
   "source": [
    "## 6. Predicting the Test set results"
   ]
  },
  {
   "cell_type": "code",
   "execution_count": 30,
   "metadata": {},
   "outputs": [],
   "source": [
    "#print options\n",
    "# np.set_printoptions(threshold=np.inf)"
   ]
  },
  {
   "cell_type": "markdown",
   "metadata": {},
   "source": [
    "### 6.1 Multiple Linear Regression results"
   ]
  },
  {
   "cell_type": "code",
   "execution_count": 31,
   "metadata": {
    "colab": {},
    "colab_type": "code",
    "id": "TQKmwvtdBkyb"
   },
   "outputs": [
    {
     "name": "stdout",
     "output_type": "stream",
     "text": [
      "[[ 4702.51  5995.  ]\n",
      " [14299.4  14999.  ]\n",
      " [11556.23 10200.  ]\n",
      " ...\n",
      " [ 8079.03  7495.  ]\n",
      " [ 7722.94  7550.  ]\n",
      " [ 8049.31  6998.  ]]\n"
     ]
    }
   ],
   "source": [
    "y_pred_linear = regressor_linear.predict(X_test)\n",
    "np.set_printoptions(precision=2)\n",
    "print(np.concatenate((y_pred_linear.reshape(len(y_pred_linear),1), y_test.reshape(len(y_test),1)),1))"
   ]
  },
  {
   "cell_type": "markdown",
   "metadata": {},
   "source": [
    "### 6.2 Support Vector Regression (SVR) results"
   ]
  },
  {
   "cell_type": "code",
   "execution_count": 32,
   "metadata": {},
   "outputs": [
    {
     "name": "stdout",
     "output_type": "stream",
     "text": [
      "[[ 5568.41  5995.  ]\n",
      " [14232.49 14999.  ]\n",
      " [11083.23 10200.  ]\n",
      " ...\n",
      " [ 7855.61  7495.  ]\n",
      " [ 7240.65  7550.  ]\n",
      " [ 7943.68  6998.  ]]\n"
     ]
    }
   ],
   "source": [
    "y_pred_SVR = sc_y_SVR.inverse_transform(regressor_SVR.predict(sc_X_SVR.transform(X_test)).reshape(-1,1))\n",
    "np.set_printoptions(precision=2)\n",
    "print(np.concatenate((y_pred_SVR.reshape(len(y_pred_SVR),1), y_test.reshape(len(y_test_SVR),1)),1))"
   ]
  },
  {
   "cell_type": "markdown",
   "metadata": {},
   "source": [
    "### 6.3 Decision Tree Regression results"
   ]
  },
  {
   "cell_type": "code",
   "execution_count": 33,
   "metadata": {},
   "outputs": [
    {
     "name": "stdout",
     "output_type": "stream",
     "text": [
      "[[ 5998.  5995.]\n",
      " [14495. 14999.]\n",
      " [10722. 10200.]\n",
      " ...\n",
      " [ 7295.  7495.]\n",
      " [ 6945.  7550.]\n",
      " [ 6895.  6998.]]\n"
     ]
    }
   ],
   "source": [
    "y_pred_Decision_Tree = regressor_Decision_Tree.predict(X_test)\n",
    "np.set_printoptions(precision=2)\n",
    "print(np.concatenate((y_pred_Decision_Tree.reshape(len(y_pred_Decision_Tree),1), y_test.reshape(len(y_test),1)),1))"
   ]
  },
  {
   "cell_type": "markdown",
   "metadata": {},
   "source": [
    "### 6.4 Random Forest Regression results"
   ]
  },
  {
   "cell_type": "code",
   "execution_count": 34,
   "metadata": {},
   "outputs": [
    {
     "name": "stdout",
     "output_type": "stream",
     "text": [
      "[[ 5951.1  5995. ]\n",
      " [14130.7 14999. ]\n",
      " [11126.8 10200. ]\n",
      " ...\n",
      " [ 7564.3  7495. ]\n",
      " [ 6870.8  7550. ]\n",
      " [ 6814.7  6998. ]]\n"
     ]
    }
   ],
   "source": [
    "y_pred_random_forest = regressor_random_forest.predict(X_test)\n",
    "np.set_printoptions(precision=2)\n",
    "print(np.concatenate((y_pred_random_forest.reshape(len(y_pred_random_forest),1), y_test.reshape(len(y_test),1)),1))"
   ]
  },
  {
   "cell_type": "markdown",
   "metadata": {
    "colab_type": "text",
    "id": "50DZZy0UyhLi"
   },
   "source": [
    "## 7. Evaluating the Model Performance\n",
    "\n",
    "### source: https://scikit-learn.org/stable/modules/model_evaluation.html#regression-metrics\n",
    "\n",
    "R2 score is used to evaluate the performance of a linear regression model. It is the amount of the variation in the output dependent attribute which is predictable from the input independent variable(s) <=> larger -> better\n",
    "\n",
    "The max_error() function computes the maximum residual error. A metric that captures the worst-case error between the predicted value and the true value. <=> smaller -> better\n",
    "\n",
    "Mean Absolute Error calculates the average difference between the calculated values and actual values. It is also known as scale-dependent accuracy as it calculates error in observations taken on the same scale <=> smaller -> better\n",
    "\n",
    "The Mean Squared Error (MSE) or Mean Squared Deviation (MSD) of an estimator measures the average of error squares i.e. the average squared difference between the estimated values and true value. It is a risk function, corresponding to the expected value of the squared error loss. It is always non – negative and values close to zero are better."
   ]
  },
  {
   "cell_type": "code",
   "execution_count": 31,
   "metadata": {},
   "outputs": [],
   "source": [
    "from sklearn.metrics import r2_score\n",
    "from sklearn.metrics import max_error\n",
    "from sklearn.metrics import mean_absolute_error as mae\n",
    "from sklearn.metrics import mean_squared_error"
   ]
  },
  {
   "cell_type": "markdown",
   "metadata": {},
   "source": [
    "### 7.1 Multiple Linear Regression evaluating"
   ]
  },
  {
   "cell_type": "code",
   "execution_count": 32,
   "metadata": {
    "colab": {},
    "colab_type": "code",
    "id": "xPagAOKDywV4"
   },
   "outputs": [
    {
     "name": "stdout",
     "output_type": "stream",
     "text": [
      "r2_score:  0.9313975555109449\n",
      "max_error:  14013.427593231201\n",
      "mean_absolute_error:  1073.5765178635143\n",
      "mean_squared_error:  2647119.35357546\n"
     ]
    }
   ],
   "source": [
    "print(\"r2_score: \", r2_score(y_test, y_pred_linear))\n",
    "print(\"max_error: \", max_error(y_test, y_pred_linear))\n",
    "print(\"mean_absolute_error: \", mae(y_test, y_pred_linear))\n",
    "print(\"mean_squared_error: \", mean_squared_error(y_test, y_pred_linear))"
   ]
  },
  {
   "cell_type": "markdown",
   "metadata": {},
   "source": [
    "### 7.2 Support Vector Regression (SVR) evaluating"
   ]
  },
  {
   "cell_type": "code",
   "execution_count": 33,
   "metadata": {},
   "outputs": [
    {
     "name": "stdout",
     "output_type": "stream",
     "text": [
      "r2_score:  0.965860657247365\n",
      "max_error:  10137.499759674822\n",
      "mean_absolute_error:  785.4765736558304\n",
      "mean_squared_error:  1317313.334705793\n"
     ]
    }
   ],
   "source": [
    "print(\"r2_score: \", r2_score(y_test_SVR, y_pred_SVR))\n",
    "print(\"max_error: \", max_error(y_test_SVR, y_pred_SVR))\n",
    "print(\"mean_absolute_error: \", mae(y_test_SVR, y_pred_SVR))\n",
    "print(\"mean_squared_error: \", mean_squared_error(y_test_SVR, y_pred_SVR))"
   ]
  },
  {
   "cell_type": "markdown",
   "metadata": {},
   "source": [
    "### 7.3 Decision Tree Regression evaluating"
   ]
  },
  {
   "cell_type": "code",
   "execution_count": 34,
   "metadata": {},
   "outputs": [
    {
     "name": "stdout",
     "output_type": "stream",
     "text": [
      "r2_score:  0.952015104685084\n",
      "max_error:  8757.0\n",
      "mean_absolute_error:  946.3100272007914\n",
      "mean_squared_error:  1851562.9583384849\n"
     ]
    }
   ],
   "source": [
    "print(\"r2_score: \", r2_score(y_test, y_pred_Decision_Tree))\n",
    "print(\"max_error: \", max_error(y_test, y_pred_Decision_Tree))\n",
    "print(\"mean_absolute_error: \", mae(y_test, y_pred_Decision_Tree))\n",
    "print(\"mean_squared_error: \", mean_squared_error(y_test, y_pred_Decision_Tree))"
   ]
  },
  {
   "cell_type": "markdown",
   "metadata": {},
   "source": [
    "### 7.4 Random Forest Regression evaluating"
   ]
  },
  {
   "cell_type": "code",
   "execution_count": 35,
   "metadata": {},
   "outputs": [
    {
     "name": "stdout",
     "output_type": "stream",
     "text": [
      "r2_score:  0.9660568891880978\n",
      "max_error:  7751.4000000000015\n",
      "mean_absolute_error:  807.3378398627007\n",
      "mean_squared_error:  1309741.456298655\n"
     ]
    }
   ],
   "source": [
    "print(\"r2_score: \", r2_score(y_test, y_pred_random_forest))\n",
    "print(\"max_error: \", max_error(y_test, y_pred_random_forest))\n",
    "print(\"mean_absolute_error: \", mae(y_test, y_pred_random_forest))\n",
    "print(\"mean_squared_error: \", mean_squared_error(y_test, y_pred_random_forest))"
   ]
  },
  {
   "cell_type": "code",
   "execution_count": 36,
   "metadata": {},
   "outputs": [
    {
     "data": {
      "text/plain": [
       "0.9660568891880978"
      ]
     },
     "execution_count": 36,
     "metadata": {},
     "output_type": "execute_result"
    }
   ],
   "source": [
    "regressor_random_forest.score(X_test,y_test)"
   ]
  },
  {
   "cell_type": "markdown",
   "metadata": {},
   "source": [
    "## Save the model"
   ]
  },
  {
   "cell_type": "code",
   "execution_count": 37,
   "metadata": {},
   "outputs": [
    {
     "data": {
      "text/plain": [
       "['regressor_random_forest.joblib']"
      ]
     },
     "execution_count": 37,
     "metadata": {},
     "output_type": "execute_result"
    }
   ],
   "source": [
    "# run only 1 time \n",
    "\n",
    "# from joblib import dump, load\n",
    "# dump(regressor_random_forest, 'regressor_random_forest.joblib') "
   ]
  }
 ],
 "metadata": {
  "colab": {
   "authorship_tag": "ABX9TyPKgdwz54xQOEOK5GD93nk2",
   "collapsed_sections": [],
   "name": "Copy of multiple_linear_regression.ipynb",
   "provenance": [],
   "toc_visible": true
  },
  "kernelspec": {
   "display_name": "Python 3 (ipykernel)",
   "language": "python",
   "name": "python3"
  },
  "language_info": {
   "codemirror_mode": {
    "name": "ipython",
    "version": 3
   },
   "file_extension": ".py",
   "mimetype": "text/x-python",
   "name": "python",
   "nbconvert_exporter": "python",
   "pygments_lexer": "ipython3",
   "version": "3.7.0"
  },
  "vscode": {
   "interpreter": {
    "hash": "082e9a3bcad0a290d0001e938aa60b99250c6c2ef33a923c00b70f9826caf4b7"
   }
  }
 },
 "nbformat": 4,
 "nbformat_minor": 1
}
